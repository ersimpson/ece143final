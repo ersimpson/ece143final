{
 "cells": [
  {
   "cell_type": "code",
   "execution_count": 8,
   "metadata": {},
   "outputs": [],
   "source": [
    "from analysis import get_track_durations_stdev_distribution\n",
    "from analysis import get_artist_diversity_distribution\n",
    "from pre_processing import read_pre_processed_data\n",
    "import utils\n",
    "import matplotlib.pyplot as plt\n",
    "from tqdm import tqdm\n",
    "import numpy as np\n",
    "import ast"
   ]
  },
  {
   "cell_type": "code",
   "execution_count": 25,
   "metadata": {},
   "outputs": [],
   "source": [
    "playlist_df, tracks_df, playlist_tracks_df = read_pre_processed_data('../data')"
   ]
  },
  {
   "cell_type": "markdown",
   "metadata": {},
   "source": [
    "### Track Durations Standard Deviation Distribution"
   ]
  },
  {
   "cell_type": "code",
   "execution_count": 3,
   "metadata": {},
   "outputs": [
    {
     "name": "stderr",
     "output_type": "stream",
     "text": [
      "100%|██████████| 66346428/66346428 [01:18<00:00, 846524.42it/s] \n",
      "100%|██████████| 1000000/1000000 [02:07<00:00, 7853.22it/s]\n"
     ]
    }
   ],
   "source": [
    "duration_s_stdevs = get_track_durations_stdev_distribution(tracks_df, playlist_tracks_df)"
   ]
  },
  {
   "cell_type": "code",
   "execution_count": 4,
   "metadata": {},
   "outputs": [
    {
     "data": {
      "image/png": "[encoded data removed]",
      "text/plain": [
       "<Figure size 640x480 with 1 Axes>"
      ]
     },
     "metadata": {},
     "output_type": "display_data"
    }
   ],
   "source": [
    "bins = np.linspace(np.percentile(duration_s_stdevs, 1), np.percentile(duration_s_stdevs, 99),\n",
    "                   int(np.percentile(duration_s_stdevs, 99) - np.percentile(duration_s_stdevs, 1))+1)\n",
    "\n",
    "# Count the number of elements in each bin\n",
    "counts, _ = np.histogram(duration_s_stdevs, bins=bins)\n",
    "counts = counts / np.sum(counts) * 100\n",
    "\n",
    "# Plot the bar graph\n",
    "plt.bar(bins[:-1], counts, width=1)  # Adjust width as needed\n",
    "plt.xlabel(\"Standard Deviation of Track Durations(s)\")\n",
    "plt.ylabel(\"Frequency (%)\")\n",
    "plt.title(\"Distribution of Standard Deviation of Track Durations in a Playlist\")\n",
    "plt.show()"
   ]
  },
  {
   "cell_type": "markdown",
   "metadata": {},
   "source": [
    "#### Playlist with the greatest track durations standard deviation"
   ]
  },
  {
   "cell_type": "code",
   "execution_count": 37,
   "metadata": {},
   "outputs": [
    {
     "name": "stdout",
     "output_type": "stream",
     "text": [
      "name             Audiobooks\n",
      "collaborative         False\n",
      "num_tracks               18\n",
      "num_albums               11\n",
      "num_followers             2\n",
      "Name: 278308, dtype: object\n"
     ]
    },
    {
     "data": {
      "text/html": [
       "<div>\n",
       "<style scoped>\n",
       "    .dataframe tbody tr th:only-of-type {\n",
       "        vertical-align: middle;\n",
       "    }\n",
       "\n",
       "    .dataframe tbody tr th {\n",
       "        vertical-align: top;\n",
       "    }\n",
       "\n",
       "    .dataframe thead th {\n",
       "        text-align: right;\n",
       "    }\n",
       "</style>\n",
       "<table border=\"1\" class=\"dataframe\">\n",
       "  <thead>\n",
       "    <tr style=\"text-align: right;\">\n",
       "      <th></th>\n",
       "      <th>artist_name</th>\n",
       "      <th>track_name</th>\n",
       "      <th>duration_s</th>\n",
       "    </tr>\n",
       "  </thead>\n",
       "  <tbody>\n",
       "    <tr>\n",
       "      <th>905383</th>\n",
       "      <td>Basil Rathbone</td>\n",
       "      <td>The Raven</td>\n",
       "      <td>501</td>\n",
       "    </tr>\n",
       "    <tr>\n",
       "      <th>1072236</th>\n",
       "      <td>Inner Sanctum Mystery</td>\n",
       "      <td>The Tell-Tale Heart (1941) [feat. Boris Karloff]</td>\n",
       "      <td>1602</td>\n",
       "    </tr>\n",
       "    <tr>\n",
       "      <th>1187965</th>\n",
       "      <td>David Moore</td>\n",
       "      <td>The Yellow Wallpaper</td>\n",
       "      <td>2190</td>\n",
       "    </tr>\n",
       "    <tr>\n",
       "      <th>1187966</th>\n",
       "      <td>Edgar Allan Poe</td>\n",
       "      <td>The Pit and the Pendulum (1957)</td>\n",
       "      <td>1499</td>\n",
       "    </tr>\n",
       "    <tr>\n",
       "      <th>1187967</th>\n",
       "      <td>Richard Mitchley</td>\n",
       "      <td>The Outsider</td>\n",
       "      <td>1024</td>\n",
       "    </tr>\n",
       "    <tr>\n",
       "      <th>1187968</th>\n",
       "      <td>DBS Audiobooks</td>\n",
       "      <td>Pride and Prejudice - Jane Austen Part 1 of 2</td>\n",
       "      <td>19672</td>\n",
       "    </tr>\n",
       "    <tr>\n",
       "      <th>1187969</th>\n",
       "      <td>DBS Audiobooks</td>\n",
       "      <td>Northanger Abbey - Jane Austen Part 1 of 2</td>\n",
       "      <td>13049</td>\n",
       "    </tr>\n",
       "    <tr>\n",
       "      <th>1187970</th>\n",
       "      <td>DBS Audiobooks</td>\n",
       "      <td>Northanger Abbey - Jane Austen Part 2 of 2</td>\n",
       "      <td>11904</td>\n",
       "    </tr>\n",
       "    <tr>\n",
       "      <th>1187971</th>\n",
       "      <td>DBS Audiobooks</td>\n",
       "      <td>Persuasion - Jane Austen Part 1 of 2</td>\n",
       "      <td>14557</td>\n",
       "    </tr>\n",
       "    <tr>\n",
       "      <th>1187972</th>\n",
       "      <td>DBS Audiobooks</td>\n",
       "      <td>Persuasion - Jane Austen Part 2 of 2</td>\n",
       "      <td>13166</td>\n",
       "    </tr>\n",
       "    <tr>\n",
       "      <th>1187973</th>\n",
       "      <td>DBS Audiobooks</td>\n",
       "      <td>Sense and Sensibility - Jane Austen Part 1 of 2</td>\n",
       "      <td>19080</td>\n",
       "    </tr>\n",
       "    <tr>\n",
       "      <th>1187974</th>\n",
       "      <td>DBS Audiobooks</td>\n",
       "      <td>Sense and Sensibility - Jane Austen Part 2 of 2</td>\n",
       "      <td>19043</td>\n",
       "    </tr>\n",
       "    <tr>\n",
       "      <th>1187975</th>\n",
       "      <td>DBS Audiobooks</td>\n",
       "      <td>The Phantom of the Opera - Gaston Leroux Part ...</td>\n",
       "      <td>16362</td>\n",
       "    </tr>\n",
       "    <tr>\n",
       "      <th>1187976</th>\n",
       "      <td>DBS Audiobooks</td>\n",
       "      <td>The Phantom of the Opera - Gaston Leroux Part ...</td>\n",
       "      <td>14298</td>\n",
       "    </tr>\n",
       "    <tr>\n",
       "      <th>1187977</th>\n",
       "      <td>Anna-Juliana Clare</td>\n",
       "      <td>Emma - Part 1</td>\n",
       "      <td>2509</td>\n",
       "    </tr>\n",
       "    <tr>\n",
       "      <th>1187978</th>\n",
       "      <td>Anna-Juliana Clare</td>\n",
       "      <td>Emma - Part 2</td>\n",
       "      <td>2322</td>\n",
       "    </tr>\n",
       "    <tr>\n",
       "      <th>1187979</th>\n",
       "      <td>Anna-Juliana Clare</td>\n",
       "      <td>Emma - Part 3</td>\n",
       "      <td>2044</td>\n",
       "    </tr>\n",
       "    <tr>\n",
       "      <th>1187980</th>\n",
       "      <td>Anna-Juliana Clare</td>\n",
       "      <td>Emma - Part 4</td>\n",
       "      <td>1825</td>\n",
       "    </tr>\n",
       "  </tbody>\n",
       "</table>\n",
       "</div>"
      ],
      "text/plain": [
       "                   artist_name  \\\n",
       "905383          Basil Rathbone   \n",
       "1072236  Inner Sanctum Mystery   \n",
       "1187965            David Moore   \n",
       "1187966        Edgar Allan Poe   \n",
       "1187967       Richard Mitchley   \n",
       "1187968         DBS Audiobooks   \n",
       "1187969         DBS Audiobooks   \n",
       "1187970         DBS Audiobooks   \n",
       "1187971         DBS Audiobooks   \n",
       "1187972         DBS Audiobooks   \n",
       "1187973         DBS Audiobooks   \n",
       "1187974         DBS Audiobooks   \n",
       "1187975         DBS Audiobooks   \n",
       "1187976         DBS Audiobooks   \n",
       "1187977     Anna-Juliana Clare   \n",
       "1187978     Anna-Juliana Clare   \n",
       "1187979     Anna-Juliana Clare   \n",
       "1187980     Anna-Juliana Clare   \n",
       "\n",
       "                                                track_name  duration_s  \n",
       "905383                                           The Raven         501  \n",
       "1072236   The Tell-Tale Heart (1941) [feat. Boris Karloff]        1602  \n",
       "1187965                               The Yellow Wallpaper        2190  \n",
       "1187966                    The Pit and the Pendulum (1957)        1499  \n",
       "1187967                                       The Outsider        1024  \n",
       "1187968      Pride and Prejudice - Jane Austen Part 1 of 2       19672  \n",
       "1187969         Northanger Abbey - Jane Austen Part 1 of 2       13049  \n",
       "1187970         Northanger Abbey - Jane Austen Part 2 of 2       11904  \n",
       "1187971               Persuasion - Jane Austen Part 1 of 2       14557  \n",
       "1187972               Persuasion - Jane Austen Part 2 of 2       13166  \n",
       "1187973    Sense and Sensibility - Jane Austen Part 1 of 2       19080  \n",
       "1187974    Sense and Sensibility - Jane Austen Part 2 of 2       19043  \n",
       "1187975  The Phantom of the Opera - Gaston Leroux Part ...       16362  \n",
       "1187976  The Phantom of the Opera - Gaston Leroux Part ...       14298  \n",
       "1187977                                      Emma - Part 1        2509  \n",
       "1187978                                      Emma - Part 2        2322  \n",
       "1187979                                      Emma - Part 3        2044  \n",
       "1187980                                      Emma - Part 4        1825  "
      ]
     },
     "execution_count": 37,
     "metadata": {},
     "output_type": "execute_result"
    }
   ],
   "source": [
    "max_stdev_pid, max_stdev = np.argmax(duration_s_stdevs), np.max(duration_s_stdevs)\n",
    "max_stdev_playlist = playlist_df[playlist_df['pid'] == max_stdev_pid].iloc[0]\n",
    "\n",
    "# print the basic info about this playlist\n",
    "print(max_stdev_playlist[['name', 'collaborative', 'num_tracks', 'num_albums', 'num_followers']])\n",
    "\n",
    "# convert track id to track name and artist name\n",
    "track_ids = ast.literal_eval(max_stdev_playlist['tracks'])\n",
    "tracks_df[tracks_df['track_id'].isin(track_ids)][['artist_name', 'track_name', 'duration_s']]"
   ]
  },
  {
   "cell_type": "markdown",
   "metadata": {},
   "source": [
    "### Artist diversity distribution"
   ]
  },
  {
   "cell_type": "code",
   "execution_count": 38,
   "metadata": {},
   "outputs": [
    {
     "name": "stderr",
     "output_type": "stream",
     "text": [
      "100%|██████████| 66346428/66346428 [01:05<00:00, 1008082.40it/s]\n",
      "100%|██████████| 1000000/1000000 [02:50<00:00, 5853.09it/s]\n"
     ]
    }
   ],
   "source": [
    "artist_diversity = get_artist_diversity_distribution(tracks_df, playlist_tracks_df)"
   ]
  },
  {
   "cell_type": "code",
   "execution_count": 39,
   "metadata": {},
   "outputs": [
    {
     "data": {
      "image/png": "[encoded data removed]",
      "text/plain": [
       "<Figure size 640x480 with 1 Axes>"
      ]
     },
     "metadata": {},
     "output_type": "display_data"
    }
   ],
   "source": [
    "bins = np.linspace(0.0, 1.0, 101)\n",
    "\n",
    "# Count the number of elements in each bin\n",
    "counts, _ = np.histogram(artist_diversity, bins=bins)\n",
    "counts = counts / np.sum(counts) * 100\n",
    "\n",
    "# Plot the bar graph\n",
    "plt.bar(bins[:-1], counts, width=0.008)  # Adjust width as needed\n",
    "plt.xlabel(\"Artists Diversity\")\n",
    "plt.ylabel(\"Frequency (%)\")\n",
    "plt.title(\"Distribution of Artists Diversity\")\n",
    "plt.show()"
   ]
  },
  {
   "cell_type": "markdown",
   "metadata": {},
   "source": [
    "#### Playlist with the lowest artists diversity"
   ]
  },
  {
   "cell_type": "code",
   "execution_count": 41,
   "metadata": {},
   "outputs": [
    {
     "name": "stdout",
     "output_type": "stream",
     "text": [
      "name             Future\n",
      "collaborative     False\n",
      "num_tracks          127\n",
      "num_albums           10\n",
      "num_followers         1\n",
      "num_artists           4\n",
      "Name: 491207, dtype: object\n"
     ]
    },
    {
     "data": {
      "text/html": [
       "<div>\n",
       "<style scoped>\n",
       "    .dataframe tbody tr th:only-of-type {\n",
       "        vertical-align: middle;\n",
       "    }\n",
       "\n",
       "    .dataframe tbody tr th {\n",
       "        vertical-align: top;\n",
       "    }\n",
       "\n",
       "    .dataframe thead th {\n",
       "        text-align: right;\n",
       "    }\n",
       "</style>\n",
       "<table border=\"1\" class=\"dataframe\">\n",
       "  <thead>\n",
       "    <tr style=\"text-align: right;\">\n",
       "      <th></th>\n",
       "      <th>artist_name</th>\n",
       "      <th>track_name</th>\n",
       "      <th>duration_s</th>\n",
       "    </tr>\n",
       "  </thead>\n",
       "  <tbody>\n",
       "    <tr>\n",
       "      <th>1913</th>\n",
       "      <td>Future</td>\n",
       "      <td>Turn On The Lights</td>\n",
       "      <td>249</td>\n",
       "    </tr>\n",
       "    <tr>\n",
       "      <th>18505</th>\n",
       "      <td>Future</td>\n",
       "      <td>Neva End</td>\n",
       "      <td>262</td>\n",
       "    </tr>\n",
       "    <tr>\n",
       "      <th>22601</th>\n",
       "      <td>Future</td>\n",
       "      <td>Tony Montana</td>\n",
       "      <td>248</td>\n",
       "    </tr>\n",
       "    <tr>\n",
       "      <th>22604</th>\n",
       "      <td>Future</td>\n",
       "      <td>Straight Up</td>\n",
       "      <td>177</td>\n",
       "    </tr>\n",
       "    <tr>\n",
       "      <th>34099</th>\n",
       "      <td>Future</td>\n",
       "      <td>Same Damn Time (Remix)</td>\n",
       "      <td>273</td>\n",
       "    </tr>\n",
       "    <tr>\n",
       "      <th>...</th>\n",
       "      <td>...</td>\n",
       "      <td>...</td>\n",
       "      <td>...</td>\n",
       "    </tr>\n",
       "    <tr>\n",
       "      <th>489006</th>\n",
       "      <td>Future</td>\n",
       "      <td>Praise Him (Gospel)</td>\n",
       "      <td>261</td>\n",
       "    </tr>\n",
       "    <tr>\n",
       "      <th>489007</th>\n",
       "      <td>Future</td>\n",
       "      <td>Moving On</td>\n",
       "      <td>362</td>\n",
       "    </tr>\n",
       "    <tr>\n",
       "      <th>489008</th>\n",
       "      <td>Future</td>\n",
       "      <td>Away (Remix)</td>\n",
       "      <td>230</td>\n",
       "    </tr>\n",
       "    <tr>\n",
       "      <th>619436</th>\n",
       "      <td>Future</td>\n",
       "      <td>Never Seen Those Skit</td>\n",
       "      <td>25</td>\n",
       "    </tr>\n",
       "    <tr>\n",
       "      <th>1538280</th>\n",
       "      <td>Future</td>\n",
       "      <td>Intro</td>\n",
       "      <td>110</td>\n",
       "    </tr>\n",
       "  </tbody>\n",
       "</table>\n",
       "<p>113 rows × 3 columns</p>\n",
       "</div>"
      ],
      "text/plain": [
       "        artist_name              track_name  duration_s\n",
       "1913         Future      Turn On The Lights         249\n",
       "18505        Future                Neva End         262\n",
       "22601        Future            Tony Montana         248\n",
       "22604        Future             Straight Up         177\n",
       "34099        Future  Same Damn Time (Remix)         273\n",
       "...             ...                     ...         ...\n",
       "489006       Future     Praise Him (Gospel)         261\n",
       "489007       Future               Moving On         362\n",
       "489008       Future            Away (Remix)         230\n",
       "619436       Future   Never Seen Those Skit          25\n",
       "1538280      Future                   Intro         110\n",
       "\n",
       "[113 rows x 3 columns]"
      ]
     },
     "execution_count": 41,
     "metadata": {},
     "output_type": "execute_result"
    }
   ],
   "source": [
    "min_diversity_pid, min_diversity = np.argmin(artist_diversity), np.max(artist_diversity)\n",
    "min_diversity_playlist = playlist_df[playlist_df['pid'] == min_diversity_pid].iloc[0]\n",
    "\n",
    "# print the basic info about this playlist\n",
    "print(min_diversity_playlist[['name', 'collaborative', 'num_tracks', 'num_albums', 'num_followers', 'num_artists']])\n",
    "\n",
    "# convert track id to track name and artist name\n",
    "track_ids = ast.literal_eval(min_diversity_playlist['tracks'])\n",
    "tracks_df[tracks_df['track_id'].isin(track_ids)][['artist_name', 'track_name', 'duration_s']]"
   ]
  }
 ],
 "metadata": {
  "kernelspec": {
   "display_name": "venv",
   "language": "python",
   "name": "python3"
  },
  "language_info": {
   "codemirror_mode": {
    "name": "ipython",
    "version": 3
   },
   "file_extension": ".py",
   "mimetype": "text/x-python",
   "name": "python",
   "nbconvert_exporter": "python",
   "pygments_lexer": "ipython3",
   "version": "3.9.1"
  }
 },
 "nbformat": 4,
 "nbformat_minor": 2
}
